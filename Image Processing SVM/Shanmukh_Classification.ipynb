{
 "cells": [
  {
   "cell_type": "markdown",
   "metadata": {
    "colab_type": "text",
    "id": "view-in-github"
   },
   "source": [
    "<a href=\"https://colab.research.google.com/github/ShanmukhVegi/Image-Classification/blob/main/Shanmukh_Classification.ipynb\" target=\"_parent\"><img src=\"https://colab.research.google.com/assets/colab-badge.svg\" alt=\"Open In Colab\"/></a>"
   ]
  },
  {
   "cell_type": "markdown",
   "metadata": {
    "id": "uBajLXYrWBlo"
   },
   "source": [
    "Importing all the required packages"
   ]
  },
  {
   "cell_type": "code",
   "execution_count": 78,
   "metadata": {
    "id": "VgPd1fjcOKlg"
   },
   "outputs": [],
   "source": [
    "\n",
    "import pandas as pd\n",
    "from sklearn import svm\n",
    "from sklearn.model_selection import GridSearchCV\n",
    "import os\n",
    "import matplotlib.pyplot as plt\n",
    "from skimage.transform import resize\n",
    "from skimage.io import imread\n",
    "import numpy as np\n",
    "from sklearn.model_selection import train_test_split\n",
    "from sklearn.metrics import classification_report,accuracy_score,confusion_matrix\n",
    "import pickle\n",
    "from sklearn.metrics import roc_curve, auc\n",
    "from sklearn.model_selection import train_test_split\n",
    "from sklearn.preprocessing import label_binarize\n",
    "from sklearn.multiclass import OneVsRestClassifier\n",
    "from sklearn.metrics import roc_auc_score\n",
    "random_state = np.random.RandomState(0)\n",
    "from sklearn.svm import LinearSVC\n",
    "from itertools import cycle\n"
   ]
  },
  {
   "cell_type": "markdown",
   "metadata": {
    "id": "i8zhtW8yz34D"
   },
   "source": [
    "**NOTE** : Please enter Category Names same as folder name"
   ]
  },
  {
   "cell_type": "code",
   "execution_count": 3,
   "metadata": {
    "colab": {
     "base_uri": "https://localhost:8080/"
    },
    "id": "umZtNj4CTllG",
    "outputId": "6bd8a057-f089-41e9-e55e-ef7d8fe47639"
   },
   "outputs": [
    {
     "name": "stdout",
     "output_type": "stream",
     "text": [
      "Type y to give categories or type n to go with classification of Cars,Ice Cream cone and Cricket ball\n",
      "y\n",
      "Enter How Many types of Images do you want to classify\n",
      "3\n",
      "please enter 3 names\n",
      "Cars\n",
      "Cricket ball\n",
      "ice cream cone\n",
      "If not drive Please upload all the 3 category images in google collab with the same names as given in categories\n"
     ]
    }
   ],
   "source": [
    "Categories=['Cars','Ice cream cone','Cricket ball']\n",
    "print(\"Type y to give categories or type n to go with classification of Cars,Ice Cream cone and Cricket ball\");\n",
    "\n",
    "while(True):\n",
    "  check=input()\n",
    "  if(check=='n' or check=='y'):\n",
    "    break\n",
    "  print(\"Please give a valid input (y/n)\")\n",
    "if(check=='y'):\n",
    "  print(\"Enter How Many types of Images do you want to classify\")\n",
    "  n=int(input())\n",
    "  Categories=[]\n",
    "  print(f'please enter {n} names')\n",
    "  for i in range(n):\n",
    "    name=input()\n",
    "    Categories.append(name)\n",
    "  print(f\"If not drive Please upload all the {n} category images in google collab with the same names as given in categories\")\n",
    "\n"
   ]
  },
  {
   "cell_type": "markdown",
   "metadata": {
    "id": "0wwiPscqYune"
   },
   "source": [
    "Loading all the images and creating a DataFrame\n",
    "\n",
    "If you have your images in your google drive, simply mount the google Drive and copy the path of the folder containing all the Category images and Change the datadir variable to that path"
   ]
  },
  {
   "cell_type": "code",
   "execution_count": 63,
   "metadata": {
    "colab": {
     "base_uri": "https://localhost:8080/",
     "height": 531
    },
    "id": "XdGD-XpMYUjJ",
    "outputId": "d88292e8-0fd2-4c41-a485-c98045228f62"
   },
   "outputs": [
    {
     "name": "stdout",
     "output_type": "stream",
     "text": [
      "loading... category : Cars\n",
      "loaded category:Cars successfully\n",
      "loading... category : Ice cream cone\n",
      "loaded category:Ice cream cone successfully\n",
      "loading... category : Cricket ball\n",
      "loaded category:Cricket ball successfully\n"
     ]
    },
    {
     "data": {
      "text/html": [
       "<div>\n",
       "<style scoped>\n",
       "    .dataframe tbody tr th:only-of-type {\n",
       "        vertical-align: middle;\n",
       "    }\n",
       "\n",
       "    .dataframe tbody tr th {\n",
       "        vertical-align: top;\n",
       "    }\n",
       "\n",
       "    .dataframe thead th {\n",
       "        text-align: right;\n",
       "    }\n",
       "</style>\n",
       "<table border=\"1\" class=\"dataframe\">\n",
       "  <thead>\n",
       "    <tr style=\"text-align: right;\">\n",
       "      <th></th>\n",
       "      <th>0</th>\n",
       "      <th>1</th>\n",
       "      <th>2</th>\n",
       "      <th>3</th>\n",
       "      <th>4</th>\n",
       "      <th>5</th>\n",
       "      <th>6</th>\n",
       "      <th>7</th>\n",
       "      <th>8</th>\n",
       "      <th>9</th>\n",
       "      <th>...</th>\n",
       "      <th>67491</th>\n",
       "      <th>67492</th>\n",
       "      <th>67493</th>\n",
       "      <th>67494</th>\n",
       "      <th>67495</th>\n",
       "      <th>67496</th>\n",
       "      <th>67497</th>\n",
       "      <th>67498</th>\n",
       "      <th>67499</th>\n",
       "      <th>Target</th>\n",
       "    </tr>\n",
       "  </thead>\n",
       "  <tbody>\n",
       "    <tr>\n",
       "      <th>0</th>\n",
       "      <td>0.996078</td>\n",
       "      <td>0.996078</td>\n",
       "      <td>0.996078</td>\n",
       "      <td>0.996078</td>\n",
       "      <td>0.996078</td>\n",
       "      <td>0.996078</td>\n",
       "      <td>0.996078</td>\n",
       "      <td>0.996078</td>\n",
       "      <td>0.996078</td>\n",
       "      <td>0.996078</td>\n",
       "      <td>...</td>\n",
       "      <td>0.996078</td>\n",
       "      <td>0.996078</td>\n",
       "      <td>0.996078</td>\n",
       "      <td>0.996078</td>\n",
       "      <td>0.996078</td>\n",
       "      <td>0.996078</td>\n",
       "      <td>0.996078</td>\n",
       "      <td>0.996078</td>\n",
       "      <td>0.996078</td>\n",
       "      <td>0</td>\n",
       "    </tr>\n",
       "    <tr>\n",
       "      <th>1</th>\n",
       "      <td>0.717647</td>\n",
       "      <td>0.717647</td>\n",
       "      <td>0.717647</td>\n",
       "      <td>0.721569</td>\n",
       "      <td>0.721569</td>\n",
       "      <td>0.721569</td>\n",
       "      <td>0.723582</td>\n",
       "      <td>0.723582</td>\n",
       "      <td>0.723582</td>\n",
       "      <td>0.725490</td>\n",
       "      <td>...</td>\n",
       "      <td>0.338209</td>\n",
       "      <td>0.320562</td>\n",
       "      <td>0.308797</td>\n",
       "      <td>0.337255</td>\n",
       "      <td>0.317647</td>\n",
       "      <td>0.305882</td>\n",
       "      <td>0.335346</td>\n",
       "      <td>0.317647</td>\n",
       "      <td>0.305882</td>\n",
       "      <td>0</td>\n",
       "    </tr>\n",
       "    <tr>\n",
       "      <th>2</th>\n",
       "      <td>0.184641</td>\n",
       "      <td>0.170915</td>\n",
       "      <td>0.162092</td>\n",
       "      <td>0.263725</td>\n",
       "      <td>0.237255</td>\n",
       "      <td>0.174510</td>\n",
       "      <td>0.286275</td>\n",
       "      <td>0.243137</td>\n",
       "      <td>0.173203</td>\n",
       "      <td>0.286275</td>\n",
       "      <td>...</td>\n",
       "      <td>0.592157</td>\n",
       "      <td>0.596078</td>\n",
       "      <td>0.603922</td>\n",
       "      <td>0.601961</td>\n",
       "      <td>0.605882</td>\n",
       "      <td>0.615686</td>\n",
       "      <td>0.583660</td>\n",
       "      <td>0.587582</td>\n",
       "      <td>0.607190</td>\n",
       "      <td>0</td>\n",
       "    </tr>\n",
       "    <tr>\n",
       "      <th>3</th>\n",
       "      <td>0.760784</td>\n",
       "      <td>0.690196</td>\n",
       "      <td>0.611765</td>\n",
       "      <td>0.752941</td>\n",
       "      <td>0.686275</td>\n",
       "      <td>0.607843</td>\n",
       "      <td>0.756863</td>\n",
       "      <td>0.690196</td>\n",
       "      <td>0.611765</td>\n",
       "      <td>0.749020</td>\n",
       "      <td>...</td>\n",
       "      <td>0.427451</td>\n",
       "      <td>0.462745</td>\n",
       "      <td>0.450980</td>\n",
       "      <td>0.427451</td>\n",
       "      <td>0.463503</td>\n",
       "      <td>0.458824</td>\n",
       "      <td>0.427451</td>\n",
       "      <td>0.466667</td>\n",
       "      <td>0.470588</td>\n",
       "      <td>0</td>\n",
       "    </tr>\n",
       "    <tr>\n",
       "      <th>4</th>\n",
       "      <td>0.260850</td>\n",
       "      <td>0.264771</td>\n",
       "      <td>0.276536</td>\n",
       "      <td>0.279477</td>\n",
       "      <td>0.271239</td>\n",
       "      <td>0.275556</td>\n",
       "      <td>0.114641</td>\n",
       "      <td>0.102876</td>\n",
       "      <td>0.099374</td>\n",
       "      <td>0.062745</td>\n",
       "      <td>...</td>\n",
       "      <td>0.537255</td>\n",
       "      <td>0.511438</td>\n",
       "      <td>0.505882</td>\n",
       "      <td>0.552941</td>\n",
       "      <td>0.533333</td>\n",
       "      <td>0.521569</td>\n",
       "      <td>0.533333</td>\n",
       "      <td>0.513725</td>\n",
       "      <td>0.507908</td>\n",
       "      <td>0</td>\n",
       "    </tr>\n",
       "    <tr>\n",
       "      <th>...</th>\n",
       "      <td>...</td>\n",
       "      <td>...</td>\n",
       "      <td>...</td>\n",
       "      <td>...</td>\n",
       "      <td>...</td>\n",
       "      <td>...</td>\n",
       "      <td>...</td>\n",
       "      <td>...</td>\n",
       "      <td>...</td>\n",
       "      <td>...</td>\n",
       "      <td>...</td>\n",
       "      <td>...</td>\n",
       "      <td>...</td>\n",
       "      <td>...</td>\n",
       "      <td>...</td>\n",
       "      <td>...</td>\n",
       "      <td>...</td>\n",
       "      <td>...</td>\n",
       "      <td>...</td>\n",
       "      <td>...</td>\n",
       "      <td>...</td>\n",
       "    </tr>\n",
       "    <tr>\n",
       "      <th>95</th>\n",
       "      <td>1.000000</td>\n",
       "      <td>1.000000</td>\n",
       "      <td>1.000000</td>\n",
       "      <td>1.000000</td>\n",
       "      <td>1.000000</td>\n",
       "      <td>1.000000</td>\n",
       "      <td>1.000000</td>\n",
       "      <td>1.000000</td>\n",
       "      <td>1.000000</td>\n",
       "      <td>1.000000</td>\n",
       "      <td>...</td>\n",
       "      <td>1.000000</td>\n",
       "      <td>1.000000</td>\n",
       "      <td>1.000000</td>\n",
       "      <td>1.000000</td>\n",
       "      <td>1.000000</td>\n",
       "      <td>1.000000</td>\n",
       "      <td>1.000000</td>\n",
       "      <td>1.000000</td>\n",
       "      <td>1.000000</td>\n",
       "      <td>2</td>\n",
       "    </tr>\n",
       "    <tr>\n",
       "      <th>96</th>\n",
       "      <td>0.574510</td>\n",
       "      <td>0.658824</td>\n",
       "      <td>0.345098</td>\n",
       "      <td>0.574510</td>\n",
       "      <td>0.658824</td>\n",
       "      <td>0.343137</td>\n",
       "      <td>0.574510</td>\n",
       "      <td>0.658824</td>\n",
       "      <td>0.343137</td>\n",
       "      <td>0.574510</td>\n",
       "      <td>...</td>\n",
       "      <td>0.534641</td>\n",
       "      <td>0.584967</td>\n",
       "      <td>0.285621</td>\n",
       "      <td>0.563725</td>\n",
       "      <td>0.603922</td>\n",
       "      <td>0.308824</td>\n",
       "      <td>0.576471</td>\n",
       "      <td>0.605882</td>\n",
       "      <td>0.313725</td>\n",
       "      <td>2</td>\n",
       "    </tr>\n",
       "    <tr>\n",
       "      <th>97</th>\n",
       "      <td>1.000000</td>\n",
       "      <td>1.000000</td>\n",
       "      <td>1.000000</td>\n",
       "      <td>1.000000</td>\n",
       "      <td>1.000000</td>\n",
       "      <td>1.000000</td>\n",
       "      <td>1.000000</td>\n",
       "      <td>1.000000</td>\n",
       "      <td>1.000000</td>\n",
       "      <td>1.000000</td>\n",
       "      <td>...</td>\n",
       "      <td>1.000000</td>\n",
       "      <td>1.000000</td>\n",
       "      <td>1.000000</td>\n",
       "      <td>1.000000</td>\n",
       "      <td>1.000000</td>\n",
       "      <td>1.000000</td>\n",
       "      <td>1.000000</td>\n",
       "      <td>1.000000</td>\n",
       "      <td>1.000000</td>\n",
       "      <td>2</td>\n",
       "    </tr>\n",
       "    <tr>\n",
       "      <th>98</th>\n",
       "      <td>1.000000</td>\n",
       "      <td>1.000000</td>\n",
       "      <td>1.000000</td>\n",
       "      <td>1.000000</td>\n",
       "      <td>1.000000</td>\n",
       "      <td>1.000000</td>\n",
       "      <td>1.000000</td>\n",
       "      <td>1.000000</td>\n",
       "      <td>1.000000</td>\n",
       "      <td>1.000000</td>\n",
       "      <td>...</td>\n",
       "      <td>1.000000</td>\n",
       "      <td>1.000000</td>\n",
       "      <td>1.000000</td>\n",
       "      <td>1.000000</td>\n",
       "      <td>1.000000</td>\n",
       "      <td>1.000000</td>\n",
       "      <td>1.000000</td>\n",
       "      <td>1.000000</td>\n",
       "      <td>1.000000</td>\n",
       "      <td>2</td>\n",
       "    </tr>\n",
       "    <tr>\n",
       "      <th>99</th>\n",
       "      <td>0.182658</td>\n",
       "      <td>0.356863</td>\n",
       "      <td>0.150675</td>\n",
       "      <td>0.184183</td>\n",
       "      <td>0.359348</td>\n",
       "      <td>0.144837</td>\n",
       "      <td>0.187974</td>\n",
       "      <td>0.364444</td>\n",
       "      <td>0.133791</td>\n",
       "      <td>0.195595</td>\n",
       "      <td>...</td>\n",
       "      <td>0.095662</td>\n",
       "      <td>0.248497</td>\n",
       "      <td>0.071414</td>\n",
       "      <td>0.124131</td>\n",
       "      <td>0.277072</td>\n",
       "      <td>0.092758</td>\n",
       "      <td>0.149338</td>\n",
       "      <td>0.303992</td>\n",
       "      <td>0.117778</td>\n",
       "      <td>2</td>\n",
       "    </tr>\n",
       "  </tbody>\n",
       "</table>\n",
       "<p>100 rows × 67501 columns</p>\n",
       "</div>"
      ],
      "text/plain": [
       "           0         1         2         3         4         5         6  \\\n",
       "0   0.996078  0.996078  0.996078  0.996078  0.996078  0.996078  0.996078   \n",
       "1   0.717647  0.717647  0.717647  0.721569  0.721569  0.721569  0.723582   \n",
       "2   0.184641  0.170915  0.162092  0.263725  0.237255  0.174510  0.286275   \n",
       "3   0.760784  0.690196  0.611765  0.752941  0.686275  0.607843  0.756863   \n",
       "4   0.260850  0.264771  0.276536  0.279477  0.271239  0.275556  0.114641   \n",
       "..       ...       ...       ...       ...       ...       ...       ...   \n",
       "95  1.000000  1.000000  1.000000  1.000000  1.000000  1.000000  1.000000   \n",
       "96  0.574510  0.658824  0.345098  0.574510  0.658824  0.343137  0.574510   \n",
       "97  1.000000  1.000000  1.000000  1.000000  1.000000  1.000000  1.000000   \n",
       "98  1.000000  1.000000  1.000000  1.000000  1.000000  1.000000  1.000000   \n",
       "99  0.182658  0.356863  0.150675  0.184183  0.359348  0.144837  0.187974   \n",
       "\n",
       "           7         8         9  ...     67491     67492     67493     67494  \\\n",
       "0   0.996078  0.996078  0.996078  ...  0.996078  0.996078  0.996078  0.996078   \n",
       "1   0.723582  0.723582  0.725490  ...  0.338209  0.320562  0.308797  0.337255   \n",
       "2   0.243137  0.173203  0.286275  ...  0.592157  0.596078  0.603922  0.601961   \n",
       "3   0.690196  0.611765  0.749020  ...  0.427451  0.462745  0.450980  0.427451   \n",
       "4   0.102876  0.099374  0.062745  ...  0.537255  0.511438  0.505882  0.552941   \n",
       "..       ...       ...       ...  ...       ...       ...       ...       ...   \n",
       "95  1.000000  1.000000  1.000000  ...  1.000000  1.000000  1.000000  1.000000   \n",
       "96  0.658824  0.343137  0.574510  ...  0.534641  0.584967  0.285621  0.563725   \n",
       "97  1.000000  1.000000  1.000000  ...  1.000000  1.000000  1.000000  1.000000   \n",
       "98  1.000000  1.000000  1.000000  ...  1.000000  1.000000  1.000000  1.000000   \n",
       "99  0.364444  0.133791  0.195595  ...  0.095662  0.248497  0.071414  0.124131   \n",
       "\n",
       "       67495     67496     67497     67498     67499  Target  \n",
       "0   0.996078  0.996078  0.996078  0.996078  0.996078       0  \n",
       "1   0.317647  0.305882  0.335346  0.317647  0.305882       0  \n",
       "2   0.605882  0.615686  0.583660  0.587582  0.607190       0  \n",
       "3   0.463503  0.458824  0.427451  0.466667  0.470588       0  \n",
       "4   0.533333  0.521569  0.533333  0.513725  0.507908       0  \n",
       "..       ...       ...       ...       ...       ...     ...  \n",
       "95  1.000000  1.000000  1.000000  1.000000  1.000000       2  \n",
       "96  0.603922  0.308824  0.576471  0.605882  0.313725       2  \n",
       "97  1.000000  1.000000  1.000000  1.000000  1.000000       2  \n",
       "98  1.000000  1.000000  1.000000  1.000000  1.000000       2  \n",
       "99  0.277072  0.092758  0.149338  0.303992  0.117778       2  \n",
       "\n",
       "[100 rows x 67501 columns]"
      ]
     },
     "execution_count": 63,
     "metadata": {},
     "output_type": "execute_result"
    }
   ],
   "source": [
    "Categories=['Cars','Ice cream cone','Cricket ball']\n",
    "flat_data_arr=[]\n",
    "target_arr=[]\n",
    "#please use datadir='/content' if the files are upload on to google collab\n",
    "#else mount the drive and give path of the parent-folder containing all category images folders.\n",
    "datadir=''\n",
    "for i in Categories:\n",
    "  print(f'loading... category : {i}')\n",
    "  path=os.path.join(datadir,i)\n",
    "  for img in os.listdir(path):\n",
    "    img_array=imread(os.path.join(path,img))\n",
    "    img_resized=resize(img_array,(150,150,3))\n",
    "    flat_data_arr.append(img_resized.flatten())\n",
    "    target_arr.append(Categories.index(i))\n",
    "  print(f'loaded category:{i} successfully')\n",
    "flat_data=np.array(flat_data_arr)\n",
    "target=np.array(target_arr)\n",
    "df=pd.DataFrame(flat_data)\n",
    "df['Target']=target\n",
    "df"
   ]
  },
  {
   "cell_type": "markdown",
   "metadata": {
    "id": "gUp5FDqIY070"
   },
   "source": [
    "Splitting the data into training and testing data"
   ]
  },
  {
   "cell_type": "code",
   "execution_count": 64,
   "metadata": {
    "colab": {
     "base_uri": "https://localhost:8080/"
    },
    "id": "Jg3XHRP3OUyf",
    "outputId": "f9f0a456-8a4c-45e6-9b01-509d753139f2"
   },
   "outputs": [
    {
     "name": "stdout",
     "output_type": "stream",
     "text": [
      "Splitted Successfully\n"
     ]
    }
   ],
   "source": [
    "x=df.iloc[:,:-1]\n",
    "y=df.iloc[:,-1]\n",
    "x_train,x_test,y_train,y_test=train_test_split(x,y,test_size=0.20,random_state=77,stratify=y)\n",
    "print('Splitted Successfully')"
   ]
  },
  {
   "cell_type": "markdown",
   "metadata": {},
   "source": []
  },
  {
   "cell_type": "code",
   "execution_count": 38,
   "metadata": {
    "pycharm": {
     "name": "#%%\n"
    }
   },
   "outputs": [
    {
     "name": "stdout",
     "output_type": "stream",
     "text": [
      "(80, 67500)\n"
     ]
    }
   ],
   "source": []
  },
  {
   "cell_type": "markdown",
   "metadata": {
    "id": "YMmSZWDJY_eE"
   },
   "source": [
    "This Part of code may take a while for training the data using SVC model"
   ]
  },
  {
   "cell_type": "code",
   "execution_count": 65,
   "metadata": {
    "colab": {
     "base_uri": "https://localhost:8080/"
    },
    "id": "DIaIT2GlOvy6",
    "outputId": "47a22b93-17d2-4f2a-fb1f-a0e355551852"
   },
   "outputs": [
    {
     "name": "stdout",
     "output_type": "stream",
     "text": [
      "The training of the model is started, please wait for while as it may take few minutes to complete\n",
      "The Model is trained well with the given images\n"
     ]
    },
    {
     "data": {
      "text/plain": [
       "{'C': 10, 'gamma': 0.0001, 'kernel': 'rbf'}"
      ]
     },
     "execution_count": 65,
     "metadata": {},
     "output_type": "execute_result"
    }
   ],
   "source": [
    "param_grid={'C':[0.1,1,10,100],'gamma':[0.0001,0.001,0.1,1],'kernel':['rbf','poly']}\n",
    "svc=svm.SVC(probability=True)\n",
    "print(\"The training of the model is started, please wait for while as it may take few minutes to complete\")\n",
    "model=GridSearchCV(svc,param_grid)\n",
    "model.fit(x_train,y_train)\n",
    "print('The Model is trained well with the given images')\n",
    "model.best_params_"
   ]
  },
  {
   "cell_type": "markdown",
   "metadata": {},
   "source": [
    "Test ROC"
   ]
  },
  {
   "cell_type": "code",
   "execution_count": 72,
   "metadata": {
    "pycharm": {
     "name": "#%%\n"
    }
   },
   "outputs": [
    {
     "name": "stderr",
     "output_type": "stream",
     "text": [
      "C:\\Users\\OmarAyman\\anaconda3\\lib\\site-packages\\sklearn\\svm\\_base.py:1206: ConvergenceWarning: Liblinear failed to converge, increase the number of iterations.\n",
      "  warnings.warn(\n",
      "C:\\Users\\OmarAyman\\anaconda3\\lib\\site-packages\\sklearn\\svm\\_base.py:1206: ConvergenceWarning: Liblinear failed to converge, increase the number of iterations.\n",
      "  warnings.warn(\n",
      "C:\\Users\\OmarAyman\\anaconda3\\lib\\site-packages\\sklearn\\svm\\_base.py:1206: ConvergenceWarning: Liblinear failed to converge, increase the number of iterations.\n",
      "  warnings.warn(\n"
     ]
    }
   ],
   "source": [
    "classifier = OneVsRestClassifier(\n",
    "    LinearSVC(random_state=0)\n",
    ")\n",
    "y_score = classifier.fit(x_train, y_train).decision_function(x_test)\n"
   ]
  },
  {
   "cell_type": "code",
   "execution_count": 82,
   "metadata": {
    "pycharm": {
     "name": "#%%\n"
    }
   },
   "outputs": [],
   "source": [
    "# Compute ROC curve and ROC area for each class\n",
    "fpr = dict()\n",
    "tpr = dict()\n",
    "roc_auc = dict()\n",
    "y_test_dummies = pd.get_dummies(y_test, drop_first=False).values\n",
    "for i in range(3):\n",
    "    fpr[i], tpr[i], _ = roc_curve(y_test_dummies[:, i], y_score[:, i])\n",
    "    roc_auc[i] = auc(fpr[i], tpr[i])\n",
    "\n",
    "# # Plot of a ROC curve for a specific class\n",
    "# for i in range(3):\n",
    "#     plt.figure()\n",
    "#     plt.plot(fpr[i], tpr[i], label='ROC curve (area = %0.2f)' % roc_auc[i])\n",
    "#     plt.plot([0, 1], [0, 1], 'k--')\n",
    "#     plt.xlim([0.0, 1.0])\n",
    "#     plt.ylim([0.0, 1.05])\n",
    "#     plt.xlabel('False Positive Rate')\n",
    "#     plt.ylabel('True Positive Rate')\n",
    "#     plt.title('Receiver operating characteristic example')\n",
    "#     plt.legend(loc=\"lower right\")\n",
    "#     plt.show()"
   ]
  },
  {
   "cell_type": "code",
   "execution_count": 83,
   "metadata": {},
   "outputs": [],
   "source": [
    "lw = 2"
   ]
  },
  {
   "cell_type": "code",
   "execution_count": 85,
   "metadata": {},
   "outputs": [
    {
     "data": {
      "image/png": "[encoded data removed]",
      "text/plain": [
       "<Figure size 432x288 with 1 Axes>"
      ]
     },
     "metadata": {
      "needs_background": "light"
     },
     "output_type": "display_data"
    }
   ],
   "source": [
    "# First aggregate all false positive rates\n",
    "all_fpr = np.unique(np.concatenate([fpr[i] for i in range(3)]))\n",
    "\n",
    "# Then interpolate all ROC curves at this points\n",
    "mean_tpr = np.zeros_like(all_fpr)\n",
    "for i in range(3):\n",
    "    mean_tpr += np.interp(all_fpr, fpr[i], tpr[i])\n",
    "\n",
    "# Finally average it and compute AUC\n",
    "mean_tpr /= 3\n",
    "\n",
    "# fpr[\"macro\"] = all_fpr\n",
    "# tpr[\"macro\"] = mean_tpr\n",
    "# roc_auc[\"macro\"] = auc(fpr[\"macro\"], tpr[\"macro\"])\n",
    "\n",
    "# # Plot all ROC curves\n",
    "# plt.figure()\n",
    "# plt.plot(\n",
    "#     fpr[\"micro\"],\n",
    "#     tpr[\"micro\"],\n",
    "#     label=\"micro-average ROC curve (area = {0:0.2f})\".format(roc_auc[\"micro\"]),\n",
    "#     color=\"deeppink\",\n",
    "#     linestyle=\":\",\n",
    "#     linewidth=4,\n",
    "# )\n",
    "\n",
    "# plt.plot(\n",
    "#     fpr[\"macro\"],\n",
    "#     tpr[\"macro\"],\n",
    "#     label=\"macro-average ROC curve (area = {0:0.2f})\".format(roc_auc[\"macro\"]),\n",
    "#     color=\"navy\",\n",
    "#     linestyle=\":\",\n",
    "#     linewidth=4,\n",
    "# )\n",
    "\n",
    "colors = cycle([\"aqua\", \"darkorange\", \"cornflowerblue\"])\n",
    "for i, color in zip(range(3), colors):\n",
    "    plt.plot(\n",
    "        fpr[i],\n",
    "        tpr[i],\n",
    "        color=color,\n",
    "        lw=lw,\n",
    "        label=\"ROC curve of class {0} (area = {1:0.2f})\".format(Categories[i], roc_auc[i]),\n",
    "    )\n",
    "\n",
    "plt.plot([0, 1], [0, 1], \"k--\", lw=lw)\n",
    "plt.xlim([0.0, 1.0])\n",
    "plt.ylim([0.0, 1.05])\n",
    "plt.xlabel(\"False Positive Rate\")\n",
    "plt.ylabel(\"True Positive Rate\")\n",
    "plt.title(\"Some extension of Receiver operating characteristic to multiclass\")\n",
    "plt.legend(loc=\"lower right\")\n",
    "plt.show()"
   ]
  },
  {
   "cell_type": "markdown",
   "metadata": {
    "id": "VWKN2_4eZZmF"
   },
   "source": [
    "Predicting our testing data"
   ]
  },
  {
   "cell_type": "code",
   "execution_count": 66,
   "metadata": {
    "colab": {
     "base_uri": "https://localhost:8080/"
    },
    "id": "h7qEbNLoSAcS",
    "outputId": "3c93b66c-9202-42ee-ae30-5cadea7f00ef"
   },
   "outputs": [
    {
     "name": "stdout",
     "output_type": "stream",
     "text": [
      "The predicted Data is :\n"
     ]
    },
    {
     "data": {
      "text/plain": [
       "array([0, 0, 2, 2, 0, 2, 1, 2, 0, 1, 2, 2, 0, 1, 2, 0, 0, 2, 1, 1])"
      ]
     },
     "execution_count": 66,
     "metadata": {},
     "output_type": "execute_result"
    }
   ],
   "source": [
    "y_pred=model.predict(x_test)\n",
    "print(\"The predicted Data is :\")\n",
    "y_pred"
   ]
  },
  {
   "cell_type": "code",
   "execution_count": 67,
   "metadata": {
    "colab": {
     "base_uri": "https://localhost:8080/"
    },
    "id": "A4rMJQ0HSCgU",
    "outputId": "c5a922e2-4c75-4f95-96e3-bf9d6c9a7089"
   },
   "outputs": [
    {
     "name": "stdout",
     "output_type": "stream",
     "text": [
      "The actual data is:\n"
     ]
    },
    {
     "data": {
      "text/plain": [
       "array([0, 0, 2, 2, 0, 1, 1, 2, 0, 1, 2, 2, 0, 1, 2, 0, 0, 0, 1, 1])"
      ]
     },
     "execution_count": 67,
     "metadata": {},
     "output_type": "execute_result"
    }
   ],
   "source": [
    "print(\"The actual data is:\")\n",
    "np.array(y_test)"
   ]
  },
  {
   "cell_type": "code",
   "execution_count": 68,
   "metadata": {
    "colab": {
     "base_uri": "https://localhost:8080/"
    },
    "id": "ZwXKKc5FSFMf",
    "outputId": "d6c6e632-2585-4405-87b6-4b2321e41298"
   },
   "outputs": [
    {
     "name": "stdout",
     "output_type": "stream",
     "text": [
      "The model is 90.0% accurate\n"
     ]
    }
   ],
   "source": [
    "#classification_report(y_pred,y_test)\n",
    "print(f\"The model is {accuracy_score(y_pred,y_test)*100}% accurate\")\n",
    "#confusion_matrix(y_pred,y_test)"
   ]
  },
  {
   "cell_type": "markdown",
   "metadata": {
    "id": "B8rpwj-yX4hl"
   },
   "source": [
    "Using Pickle to save the model to disk"
   ]
  },
  {
   "cell_type": "code",
   "execution_count": 69,
   "metadata": {
    "colab": {
     "base_uri": "https://localhost:8080/"
    },
    "id": "Jf8xp5BYp_7E",
    "outputId": "bb161fc8-afc1-4f80-87a6-c4859708c0fc"
   },
   "outputs": [
    {
     "name": "stdout",
     "output_type": "stream",
     "text": [
      "Pickle is dumped successfully\n"
     ]
    }
   ],
   "source": [
    "pickle.dump(model,open('img_model.p','wb'))\n",
    "print(\"Pickle is dumped successfully\")"
   ]
  },
  {
   "cell_type": "markdown",
   "metadata": {},
   "source": [
    "Load Model using pickle"
   ]
  },
  {
   "cell_type": "code",
   "execution_count": null,
   "metadata": {},
   "outputs": [],
   "source": [
    "model = pickle.load(open(\"img_model.p\",'rb'))"
   ]
  },
  {
   "cell_type": "markdown",
   "metadata": {
    "id": "D5j6KOPCZ8av"
   },
   "source": [
    "The Machine-Learning Based Model is Created Successfully. Now You can test for classification of any image which falls in the mentioned Categories\n",
    "\n",
    "Testing of model :"
   ]
  },
  {
   "cell_type": "code",
   "execution_count": 86,
   "metadata": {
    "colab": {
     "base_uri": "https://localhost:8080/",
     "height": 427
    },
    "id": "6MVmsPLdS6-X",
    "outputId": "56a836cf-2eca-4111-d585-34697dd71db5"
   },
   "outputs": [
    {
     "data": {
      "image/png": "[encoded data removed]",
      "text/plain": [
       "<Figure size 432x288 with 1 Axes>"
      ]
     },
     "metadata": {
      "needs_background": "light"
     },
     "output_type": "display_data"
    },
    {
     "name": "stdout",
     "output_type": "stream",
     "text": [
      "Cars = 36.921456098560505%\n",
      "Ice cream cone = 41.35021392505911%\n",
      "Cricket ball = 21.728329976380387%\n",
      "The predicted image is : Ice cream cone\n",
      "Is the image a Ice cream cone ?(y/n)\n",
      "Thank you for your feedback\n"
     ]
    }
   ],
   "source": [
    "#print(os.path.abspath(os.getcwd()))\n",
    "model=pickle.load(open('img_model.p','rb'))\n",
    "\n",
    "url=input('Enter URL of Image')\n",
    "img=imread(url)\n",
    "plt.imshow(img)\n",
    "plt.show()\n",
    "img_resize=resize(img,(150,150,3))\n",
    "l=[img_resize.flatten()]\n",
    "probability=model.predict_proba(l)\n",
    "for ind,val in enumerate(Categories):\n",
    "  print(f'{val} = {probability[0][ind]*100}%')\n",
    "print(\"The predicted image is : \"+Categories[model.predict(l)[0]])\n",
    "print(f'Is the image a {Categories[model.predict(l)[0]]} ?(y/n)')\n",
    "while(True):\n",
    "  b=input()\n",
    "  if(b==\"y\" or b==\"n\"):\n",
    "    break\n",
    "  print(\"please enter either y or n\")\n",
    "\n",
    "if(b=='n'):\n",
    "  print(\"What is the image?\")\n",
    "  for i in range(len(Categories)):\n",
    "    print(f\"Enter {i} for {Categories[i]}\")\n",
    "  k=int(input())\n",
    "  while(k<0 or k>=len(Categories)):\n",
    "    print(f\"Please enter a valid number between 0-{len(Categories)-1}\")\n",
    "    k=int(input())\n",
    "  print(\"Please wait for a while for the model to learn from this image :)\")\n",
    "  flat_arr=flat_data_arr.copy()\n",
    "  tar_arr=target_arr.copy()\n",
    "  tar_arr.append(k)\n",
    "  flat_arr.extend(l)\n",
    "  tar_arr=np.array(tar_arr)\n",
    "  flat_df=np.array(flat_arr)\n",
    "  df1=pd.DataFrame(flat_df)\n",
    "  df1['Target']=tar_arr\n",
    "  model1=GridSearchCV(svc,param_grid)\n",
    "  x1=df1.iloc[:,:-1]\n",
    "  y1=df1.iloc[:,-1]\n",
    "  x_train1,x_test1,y_train1,y_test1=train_test_split(x1,y1,test_size=0.20,random_state=77,stratify=y1)\n",
    "  d={}\n",
    "  for i in model.best_params_:\n",
    "    d[i]=[model.best_params_[i]]\n",
    "  model1=GridSearchCV(svc,d)\n",
    "  model1.fit(x_train1,y_train1)\n",
    "  y_pred1=model.predict(x_test1)\n",
    "  print(f\"The model is now {accuracy_score(y_pred1,y_test1)*100}% accurate\")\n",
    "  pickle.dump(model1,open('img_model.p','wb'))\n",
    "print(\"Thank you for your feedback\")\n"
   ]
  },
  {
   "cell_type": "markdown",
   "metadata": {
    "id": "fJ_t-zqIsTCA"
   },
   "source": [
    "This model learns from its mistake and rectifies them and does not repeat the same mistake again ;)"
   ]
  }
 ],
 "metadata": {
  "colab": {
   "authorship_tag": "ABX9TyNXoByyuzJc8pEa+Ia/zOiv",
   "include_colab_link": true,
   "mount_file_id": "1f0XtS7FMhgrj2FnqPssOI3tsovKoVeXM",
   "name": "Shanmukh-Classification.ipynb",
   "provenance": [],
   "toc_visible": true
  },
  "kernelspec": {
   "display_name": "Python 3 (ipykernel)",
   "language": "python",
   "name": "python3"
  },
  "language_info": {
   "codemirror_mode": {
    "name": "ipython",
    "version": 3
   },
   "file_extension": ".py",
   "mimetype": "text/x-python",
   "name": "python",
   "nbconvert_exporter": "python",
   "pygments_lexer": "ipython3",
   "version": "3.8.8"
  }
 },
 "nbformat": 4,
 "nbformat_minor": 1
}
