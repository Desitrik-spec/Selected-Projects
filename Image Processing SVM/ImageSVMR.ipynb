{
 "cells": [
  {
   "cell_type": "code",
   "execution_count": null,
   "metadata": {
    "collapsed": true
   },
   "outputs": [],
   "source": [
    "import cv2\n",
    "import numpy as np\n",
    "import pickle\n",
    "import random\n",
    "import os\n",
    "from sklearn.model_selection import train_test_split\n",
    "from sklearn.svm import SVC\n",
    "import matplotlib.pyplot as plt\n",
    "from google.colab.patches import cv2_imshow"
   ]
  },
  {
   "cell_type": "code",
   "execution_count": null,
   "outputs": [],
   "source": [
    "dir = \"dataset/training_set\"\n",
    "categories = [ \"cats\", \"dogs\" ]\n",
    "data = []\n",
    "for category in categories:\n",
    "  path = os.path.join(dir,category)\n",
    "  label  = categories.index(category)\n",
    "  print(label)\n",
    "  for img in os.listdir(path):\n",
    "    imgpath = os.path.join(path,img)\n",
    "    pet_img = cv2.imread(imgpath,0)\n",
    "    pet_img = cv2.resize(pet_img,(50,50))\n",
    "    image  = np.array(pet_img).flatten()\n",
    "    data.append([image,label])\n",
    "\n",
    "print(len(data))"
   ],
   "metadata": {
    "collapsed": false,
    "pycharm": {
     "name": "#%%\n"
    }
   }
  },
  {
   "cell_type": "code",
   "execution_count": null,
   "outputs": [],
   "source": [
    "pick_in = open('data1.pickle', 'wb')\n",
    "pickle.dump(data,pick_in)"
   ],
   "metadata": {
    "collapsed": false,
    "pycharm": {
     "name": "#%%\n"
    }
   }
  },
  {
   "cell_type": "code",
   "execution_count": null,
   "outputs": [],
   "source": [
    "pick_in = open('data1.pickle', 'rb')\n",
    "data = pickle.load(pick_in)\n",
    "print(data)"
   ],
   "metadata": {
    "collapsed": false,
    "pycharm": {
     "name": "#%%\n"
    }
   }
  },
  {
   "cell_type": "code",
   "execution_count": null,
   "outputs": [],
   "source": [
    "random.shuffle(data)\n",
    "features = []\n",
    "labels = []\n",
    "for feature , label in data:\n",
    "  features.append(feature)\n",
    "  labels.append(label)\n",
    "print(features)\n",
    "xtrain, xtest, ytrain, ytest = train_test_split(features, labels, test_size = 0.25)"
   ],
   "metadata": {
    "collapsed": false,
    "pycharm": {
     "name": "#%%\n"
    }
   }
  },
  {
   "cell_type": "code",
   "execution_count": null,
   "outputs": [],
   "source": [
    "model1 = SVC(C = 1, kernel = 'poly' ,gamma = 'auto')\n",
    "model1.fit(xtrain, ytrain)\n",
    "\n",
    "pick = open('model1.sav','wb')\n",
    "pickle.dump(model1,pick)\n",
    "pick.close()"
   ],
   "metadata": {
    "collapsed": false,
    "pycharm": {
     "name": "#%%\n"
    }
   }
  },
  {
   "cell_type": "code",
   "execution_count": null,
   "outputs": [],
   "source": [
    "pick = open('model1.sav','rb')\n",
    "model1 = pickle.load(pick)\n",
    "pick.close()\n",
    "\n",
    "\n",
    "categories = ['cats', 'dogs']\n",
    "prediction = model1.predict(xtest)\n",
    "accuracy = model1.score(xtest,ytest)"
   ],
   "metadata": {
    "collapsed": false,
    "pycharm": {
     "name": "#%%\n"
    }
   }
  },
  {
   "cell_type": "code",
   "execution_count": null,
   "outputs": [],
   "source": [
    "print('Accuracy: ', accuracy)\n",
    "\n",
    "print(\"Prediction\", categories[prediction[1010]])\n",
    "mypet = xtest[1010].reshape(50,50)\n",
    "print(mypet)\n",
    "cv2_imshow(mypet)"
   ],
   "metadata": {
    "collapsed": false,
    "pycharm": {
     "name": "#%%\n"
    }
   }
  }
 ],
 "metadata": {
  "kernelspec": {
   "display_name": "Python 3",
   "language": "python",
   "name": "python3"
  },
  "language_info": {
   "codemirror_mode": {
    "name": "ipython",
    "version": 2
   },
   "file_extension": ".py",
   "mimetype": "text/x-python",
   "name": "python",
   "nbconvert_exporter": "python",
   "pygments_lexer": "ipython2",
   "version": "2.7.6"
  }
 },
 "nbformat": 4,
 "nbformat_minor": 0
}